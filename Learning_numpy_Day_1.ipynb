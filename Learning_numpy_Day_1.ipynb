{
  "nbformat": 4,
  "nbformat_minor": 0,
  "metadata": {
    "colab": {
      "provenance": []
    },
    "kernelspec": {
      "name": "python3",
      "display_name": "Python 3"
    },
    "language_info": {
      "name": "python"
    }
  },
  "cells": [
    {
      "cell_type": "code",
      "source": [
        "#checking numpy version\n",
        "import numpy as np\n",
        "print(np.__version__)"
      ],
      "metadata": {
        "colab": {
          "base_uri": "https://localhost:8080/"
        },
        "id": "Sbd1hwsEDnUO",
        "outputId": "61f43813-c42f-4fb6-b22e-d462796e65d7"
      },
      "execution_count": null,
      "outputs": [
        {
          "output_type": "stream",
          "name": "stdout",
          "text": [
            "2.0.2\n"
          ]
        }
      ]
    },
    {
      "cell_type": "code",
      "execution_count": null,
      "metadata": {
        "colab": {
          "base_uri": "https://localhost:8080/"
        },
        "id": "5mC3nu_iAcp2",
        "outputId": "c95a5666-11e4-4a11-bf3e-a6947b63b7ea"
      },
      "outputs": [
        {
          "output_type": "stream",
          "name": "stdout",
          "text": [
            "[1 2 3]\n"
          ]
        }
      ],
      "source": [
        "#printing elements of an array\n",
        "import numpy as np\n",
        "arr=np.array([1,2,3])\n",
        "print(arr)"
      ]
    },
    {
      "cell_type": "code",
      "source": [
        "#slicing an array\n",
        "arr=np.array([[1,2,3],[4,5,7]])\n",
        "print(arr[[0,1],1])"
      ],
      "metadata": {
        "colab": {
          "base_uri": "https://localhost:8080/"
        },
        "id": "d72TFWduA0I8",
        "outputId": "bfaed9f9-458b-43f3-ad7b-3db880516e67"
      },
      "execution_count": null,
      "outputs": [
        {
          "output_type": "stream",
          "name": "stdout",
          "text": [
            "[2 5]\n"
          ]
        }
      ]
    },
    {
      "cell_type": "code",
      "source": [
        "# numpy copy\n",
        "arr=np.array([[1,2,3],[4,5,7]])\n",
        "x=arr.copy()\n",
        "arr[1]=45\n",
        "print(arr)\n",
        "print(x)\n"
      ],
      "metadata": {
        "colab": {
          "base_uri": "https://localhost:8080/"
        },
        "id": "5nPPRTTcCc60",
        "outputId": "5682c678-ff1c-49fa-d08b-effe1a761845"
      },
      "execution_count": null,
      "outputs": [
        {
          "output_type": "stream",
          "name": "stdout",
          "text": [
            "[[ 1  2  3]\n",
            " [45 45 45]]\n",
            "[[1 2 3]\n",
            " [4 5 7]]\n"
          ]
        }
      ]
    },
    {
      "cell_type": "code",
      "source": [
        "#numpy view\n",
        "arr=np.array([[1,2,3],[4,5,7]])\n",
        "y=arr.view()\n",
        "arr[0,2]=81\n",
        "print(arr)\n",
        "print(y)"
      ],
      "metadata": {
        "colab": {
          "base_uri": "https://localhost:8080/"
        },
        "id": "GguaRaXSDIb6",
        "outputId": "846de2a5-0433-49cf-eb70-59b08033b784"
      },
      "execution_count": null,
      "outputs": [
        {
          "output_type": "stream",
          "name": "stdout",
          "text": [
            "[[ 1  2 81]\n",
            " [ 4  5  7]]\n",
            "[[ 1  2 81]\n",
            " [ 4  5  7]]\n"
          ]
        }
      ]
    },
    {
      "cell_type": "code",
      "source": [
        "#checking data type\n",
        "arr=np.array([[1,2,3],[4,5,7]])\n",
        "print(arr.dtype)"
      ],
      "metadata": {
        "colab": {
          "base_uri": "https://localhost:8080/"
        },
        "id": "8rYyBCI9DdL6",
        "outputId": "61907de3-c059-4cde-ab47-f454104a5a6d"
      },
      "execution_count": null,
      "outputs": [
        {
          "output_type": "stream",
          "name": "stdout",
          "text": [
            "int64\n"
          ]
        }
      ]
    },
    {
      "cell_type": "code",
      "source": [
        "#array indexing\n",
        "arr=np.array([1,2,3,5,7,8,9])\n",
        "print(arr[::])\n",
        "print(arr[0:4])\n",
        "print(arr[-4:-1:2])"
      ],
      "metadata": {
        "colab": {
          "base_uri": "https://localhost:8080/"
        },
        "id": "cROOjMWZDlsq",
        "outputId": "0fbe2c84-fb21-4c68-c889-12a26299446a"
      },
      "execution_count": null,
      "outputs": [
        {
          "output_type": "stream",
          "name": "stdout",
          "text": [
            "[1 2 3 5 7 8 9]\n",
            "[1 2 3 5]\n",
            "[5 8]\n"
          ]
        }
      ]
    },
    {
      "cell_type": "code",
      "source": [
        "#checking array dimension\n",
        "arr=np.array([[1,2,3],[4,5,7]])\n",
        "print(arr.ndim)"
      ],
      "metadata": {
        "colab": {
          "base_uri": "https://localhost:8080/"
        },
        "id": "WkQCyx_VFfD3",
        "outputId": "73f37093-6855-4fcc-b05c-e5ef4c855d2b"
      },
      "execution_count": null,
      "outputs": [
        {
          "output_type": "stream",
          "name": "stdout",
          "text": [
            "2\n"
          ]
        }
      ]
    },
    {
      "cell_type": "code",
      "source": [
        "# array shape\n",
        "arr=np.array([[1,2,3],[4,5,7]])\n",
        "print(arr.shape)"
      ],
      "metadata": {
        "colab": {
          "base_uri": "https://localhost:8080/"
        },
        "outputId": "0213204f-d577-4d4d-8cb8-7ae7885b794f",
        "id": "T9EfT1NzFh3u"
      },
      "execution_count": null,
      "outputs": [
        {
          "output_type": "stream",
          "name": "stdout",
          "text": [
            "(2, 3)\n"
          ]
        }
      ]
    },
    {
      "cell_type": "code",
      "source": [
        "#Reshaping an array\n",
        "arr=np.array([1,2,3,4,5,6,7,8,9,0,11,12])\n",
        "new_arr=arr.reshape(4,3)\n",
        "print(arr)\n",
        "print(new_arr)"
      ],
      "metadata": {
        "colab": {
          "base_uri": "https://localhost:8080/"
        },
        "id": "lDJ2hu10HnE-",
        "outputId": "eea790b0-ef38-4533-c9a5-c93f52e6e969"
      },
      "execution_count": null,
      "outputs": [
        {
          "output_type": "stream",
          "name": "stdout",
          "text": [
            "[ 1  2  3  4  5  6  7  8  9  0 11 12]\n",
            "[[ 1  2  3]\n",
            " [ 4  5  6]\n",
            " [ 7  8  9]\n",
            " [ 0 11 12]]\n"
          ]
        }
      ]
    }
  ]
}